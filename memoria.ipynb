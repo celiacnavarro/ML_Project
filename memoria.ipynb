{
 "cells": [
  {
   "attachments": {},
   "cell_type": "markdown",
   "metadata": {},
   "source": [
    "# Memoria del proyecto de Machine Learning"
   ]
  },
  {
   "attachments": {},
   "cell_type": "markdown",
   "metadata": {},
   "source": [
    "##  Introducción\n",
    "\n",
    "Los trastornos mentales son una importante carga para la salud pública a nivel mundial. Existen diversos factores que se relacionan con la prevalencia de estos trastornos, como la situación económica de un país. En este proyecto, se utilizó un conjunto de datos que incluye información sobre la prevalencia de trastornos mentales, así como factores demográficos y económicos, para construir modelos de machine learning y analizar la relación entre estos factores y la prevalencia de trastornos mentales.\n",
    "\n",
    "Además, se realizó una segunda tarea de predicción del consumo de ansiolíticos y antidepresivos en función de los mismos factores (PIB, tasa de desempleo, población en miles de personas y año). Para ello, se utilizó un modelo de regresión basado en redes neuronales.\n",
    "\n",
    "Finalmente, se implementó un modelo autorregresivo ARIMA para el consumo de ansiolíticos en España desde 2010 hasta 2021, permitiendo realizar predicciones sobre las tendencias de aumento de consumo de ansiolíticos.\n",
    "\n",
    "## Dataset\n",
    "\n",
    "Se emplearon diferentes conjuntos de datos provenientes de diversas fuentes, incluyendo la OECD (The Organisation for Economic Co-operation and Development) para recopilar información económica y demográfica de varios países. Entre los datos obtenidos se incluyen el PIB/GDP, la tasa de desempleo y la población del país. Por otro lado, para obtener información sobre la prevalencia de trastornos mentales en cada país, se utilizó un conjunto de datos proporcionado por la OMS (WHO).\n",
    "\n",
    "En lo que respecta al modelo ARIMA, se utilizó un conjunto de datos que proviene del Ministerio de Sanidad y que recopila información sobre el consumo de ansiolíticos de forma mensual desde 2010 hasta 2021.\n",
    "\n",
    "## Preprocesamiento de los datos\n",
    "\n",
    "El conjunto de datos utilizado se compone de diversas variables, como la prevalencia de trastornos mentales, el PIB, la tasa de desempleo, la población en miles de personas y el año. En primer lugar, se realizó una limpieza de los datos, eliminando aquellos registros con valores faltantes o nulos. Posteriormente, se normalizaron las variables numéricas para que estuvieran en la misma escala.Además, se dividió el conjunto de datos en conjuntos de entrenamiento y prueba en una proporción de 80:20.\n",
    "\n",
    "Respecto al consumo de ansiolíticos en España en la última decada, al tratarse de datos de tipo time series, se ha analizado la estacionalidad de los datos así como su tendencia, que confirma que es de carácter creciente.\n",
    "\n",
    "## Modelo de redes neuronales\n",
    "\n",
    "Se construyó un modelo de redes neuronales utilizando la biblioteca Keras de Python. El modelo se compone de varias capas, incluyendo capas de entrada, ocultas y de salida. Se utilizó la función de activación ReLU y se implementó un modelo de regresión para predecir la prevalencia de trastornos mentales en función de los factores económicos y demográficos.\n",
    "\n",
    "El modelo se entrenó utilizando el conjunto de datos preprocesado y se evaluó utilizando el Mean Absolute Error (MAE) y el Mean Squared Error (MSE). Los resultados obtenidos indican que los factores económicos y demográficos tienen una relación significativa con la prevalencia de trastornos mentales. En particular, se encontró que en los países con un mayor nivel económico (medido con el PIB/GDP) hay una mayor prevalencia de trastornos.\n",
    "\n",
    "## Modelo ARIMA\n",
    "\n",
    "Además del modelo de redes neuronales, se implementó un modelo autorregresivo ARIMA para predecir el consumo de ansiolíticos en España. Se utilizó una serie temporal mensual de datos de consumo de ansiolíticos desde 2010 hasta 2021. Se llevó a cabo un análisis exploratorio y se ajustó un modelo ARIMA a los datos utilizando técnicas de selección de modelo.\n",
    "\n",
    "\n",
    "Finalmente, se utilizaron los parámetros del modelo seleccionado para realizar predicciones del consumo de ansiolíticos en España para los próximos meses. Se evaluó la precisión del modelo utilizando métricas como el Mean Squared Error (MSE) y el Mean Absolute Error (MAE), consiguiendo una métrica de error MAE de 0.04. \n",
    "\n",
    "## Predicción y resultados finales\n",
    "\n",
    "Los modelos implementados permiten predecir la prevalencia de trastornos mentales en la población en base a factores económicos y demográficos y el consumo de ansiolíticos y antidepresivos en función de los mismos factores y de la serie temporal de consumo mensual de ansiolíticos en España. Ambos modelos pueden ser útiles para la toma de decisiones en políticas de salud pública, identificando factores de riesgo y tendencias en el consumo de medicamentos.\n",
    "\n",
    "En primer lugar, el modelo de redes neuronales muestra que el PIB y la tasa de desempleo son factores que pueden influir en la prevalencia de trastornos mentales. Estos resultados pueden ser utilizados para diseñar programas específicos de prevención y tratamiento de los trastornos mentales en función de la situación económica y laboral de cada país.\n",
    "\n",
    "Por otro lado, el modelo ARIMA permite predecir la tendencia futura del consumo de ansiolíticos en España, lo que puede ser útil para la planificación y distribución de recursos en el sistema de salud. \n",
    "\n",
    "En conclusión, la integración de ambos modelos permite tener una visión más completa y detallada de la relación entre los factores económicos y demográficos y la salud mental, así como del consumo de ansiolíticos y antidepresivos. Los resultados obtenidos pueden ser útiles para diseñar políticas y programas específicos de prevención y tratamiento de los trastornos mentales y reducir el consumo de medicamentos innecesarios.\n",
    " "
   ]
  }
 ],
 "metadata": {
  "kernelspec": {
   "display_name": "Python 3",
   "language": "python",
   "name": "python3"
  },
  "language_info": {
   "name": "python",
   "version": "3.7.4"
  },
  "orig_nbformat": 4,
  "vscode": {
   "interpreter": {
    "hash": "5c7855af51e3b65dc9bbd99e144f6a35175e6720a6ba36a4f5092674d9dd90ab"
   }
  }
 },
 "nbformat": 4,
 "nbformat_minor": 2
}
