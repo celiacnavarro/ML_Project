{
 "cells": [
  {
   "attachments": {},
   "cell_type": "markdown",
   "metadata": {},
   "source": [
    "### Memoria del proyecto de Machine Learning"
   ]
  },
  {
   "attachments": {},
   "cell_type": "markdown",
   "metadata": {},
   "source": [
    "#### I. Introducción\n",
    "\n",
    "Tal y como muestran muchos titulares, en España ha aumentado notablemente el consumo de medicamentos ansiolíticos en la población.\n",
    "Imaginemos que trabajamos como data scientist en una farmacéutica y queremos predecir el consumo del próximo año con el objetivo de producir una mayor o menor cantidad en función de la predicción de la demanda.\n",
    "\n",
    "#### II. Dataset\n",
    "\n",
    "He utilizado un dataset proveniente del Ministerio de Sanidad que recoge los datos del consumo de ansiolíticos de forma mensual desde 2010 hasta 2021. \n",
    "\n",
    "#### III. Preprocesamiento de los datos\n",
    "\n",
    "Al tratarse de datos de tipo time series, se ha analizado la estacionalidad de los datos así como su tendencia, que confirma que es de carácter creciente.\n",
    "\n",
    "#### IV. Modelado\n",
    "\n",
    "Se ha entrenado un modelo supervisado autoregresivo de tipo SARIMAX, consiguiendo una métrica de error MAE de 0.04.\n",
    "\n",
    "#### V. Predicción y resultados finales\n",
    "\n",
    "Al utilizar como test los últimos datos de los que disponemos, que son los más peculiares ya que se ha producido un aumento drástico del consumo de ansiolíticos desde 2020 sin precedentes, debido a la situación de la pandemia así como a factores sociales y económicos, el modelo no logra predecir de forma óptima estos datos, ya que se alejan de la tendencia anterior.\n",
    "\n",
    "Sin embargo, al haberlo entrenado después con todo el conjunto de datos, incluyendo los de los años 2020 y 2021, creemos que el modelo se puede comportar mejor en cuanto a las predicciones futuras.\n",
    " "
   ]
  }
 ],
 "metadata": {
  "kernelspec": {
   "display_name": "Python 3",
   "language": "python",
   "name": "python3"
  },
  "language_info": {
   "name": "python",
   "version": "3.7.4"
  },
  "orig_nbformat": 4,
  "vscode": {
   "interpreter": {
    "hash": "5c7855af51e3b65dc9bbd99e144f6a35175e6720a6ba36a4f5092674d9dd90ab"
   }
  }
 },
 "nbformat": 4,
 "nbformat_minor": 2
}
