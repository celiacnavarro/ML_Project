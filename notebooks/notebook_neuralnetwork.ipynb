{
 "cells": [
  {
   "cell_type": "code",
   "execution_count": 1,
   "metadata": {},
   "outputs": [],
   "source": [
    "import tensorflow as tf\n",
    "from tensorflow import keras\n",
    "from keras import layers\n",
    "import pandas as pd\n",
    "import numpy as np"
   ]
  },
  {
   "cell_type": "code",
   "execution_count": 2,
   "metadata": {},
   "outputs": [],
   "source": [
    "from utils import functions\n",
    "X_train, X_test, y_train, y_test = functions.load_data()"
   ]
  },
  {
   "cell_type": "code",
   "execution_count": 3,
   "metadata": {},
   "outputs": [],
   "source": [
    "from sklearn.preprocessing import StandardScaler\n",
    "scaler = StandardScaler()\n",
    "X_train_scal = scaler.fit_transform(X_train)"
   ]
  },
  {
   "cell_type": "code",
   "execution_count": 4,
   "metadata": {},
   "outputs": [],
   "source": [
    "X_test_scal = scaler.transform(X_test) "
   ]
  },
  {
   "cell_type": "code",
   "execution_count": 5,
   "metadata": {},
   "outputs": [
    {
     "data": {
      "text/plain": [
       "(720, 4)"
      ]
     },
     "execution_count": 5,
     "metadata": {},
     "output_type": "execute_result"
    }
   ],
   "source": [
    "X_train_scal.shape"
   ]
  },
  {
   "cell_type": "code",
   "execution_count": 22,
   "metadata": {},
   "outputs": [],
   "source": [
    "capas = [\n",
    "    keras.layers.Dense(units = 500, activation='relu'),\n",
    "    keras.layers.Dense(units = 300, activation='relu'),\n",
    "    keras.layers.Dense(units = 100, activation='relu'),\n",
    "    keras.layers.Dense(units = 50, activation='relu'),\n",
    "    keras.layers.Dense(units= 1)\n",
    "]\n",
    "\n",
    "model = keras.models.Sequential(capas)"
   ]
  },
  {
   "cell_type": "code",
   "execution_count": 23,
   "metadata": {},
   "outputs": [],
   "source": [
    "model.compile(loss= \"mean_squared_error\" , optimizer=\"sgd\", metrics=[\"mean_absolute_error\"])"
   ]
  },
  {
   "cell_type": "code",
   "execution_count": 24,
   "metadata": {},
   "outputs": [
    {
     "name": "stdout",
     "output_type": "stream",
     "text": [
      "Epoch 1/100\n",
      "23/23 [==============================] - 1s 4ms/step - loss: 70.9550 - mean_absolute_error: 6.7167\n",
      "Epoch 2/100\n",
      "23/23 [==============================] - 0s 5ms/step - loss: 4.7009 - mean_absolute_error: 1.7140\n",
      "Epoch 3/100\n",
      "23/23 [==============================] - 0s 5ms/step - loss: 4.6425 - mean_absolute_error: 1.7091\n",
      "Epoch 4/100\n",
      "23/23 [==============================] - 0s 5ms/step - loss: 3.9517 - mean_absolute_error: 1.5473\n",
      "Epoch 5/100\n",
      "23/23 [==============================] - 0s 5ms/step - loss: 3.2137 - mean_absolute_error: 1.3988\n",
      "Epoch 6/100\n",
      "23/23 [==============================] - 0s 6ms/step - loss: 3.3825 - mean_absolute_error: 1.4296\n",
      "Epoch 7/100\n",
      "23/23 [==============================] - 0s 7ms/step - loss: 3.2102 - mean_absolute_error: 1.3863\n",
      "Epoch 8/100\n",
      "23/23 [==============================] - 0s 6ms/step - loss: 3.2407 - mean_absolute_error: 1.3768\n",
      "Epoch 9/100\n",
      "23/23 [==============================] - 0s 5ms/step - loss: 3.7535 - mean_absolute_error: 1.5115\n",
      "Epoch 10/100\n",
      "23/23 [==============================] - 0s 5ms/step - loss: 2.6999 - mean_absolute_error: 1.2624\n",
      "Epoch 11/100\n",
      "23/23 [==============================] - 0s 4ms/step - loss: 3.0309 - mean_absolute_error: 1.3465\n",
      "Epoch 12/100\n",
      "23/23 [==============================] - 0s 5ms/step - loss: 3.5491 - mean_absolute_error: 1.4356\n",
      "Epoch 13/100\n",
      "23/23 [==============================] - 0s 5ms/step - loss: 2.9418 - mean_absolute_error: 1.3081\n",
      "Epoch 14/100\n",
      "23/23 [==============================] - 0s 6ms/step - loss: 3.0747 - mean_absolute_error: 1.3505\n",
      "Epoch 15/100\n",
      "23/23 [==============================] - 0s 7ms/step - loss: 2.9362 - mean_absolute_error: 1.3059\n",
      "Epoch 16/100\n",
      "23/23 [==============================] - 0s 5ms/step - loss: 2.6636 - mean_absolute_error: 1.2158\n",
      "Epoch 17/100\n",
      "23/23 [==============================] - 0s 5ms/step - loss: 2.9913 - mean_absolute_error: 1.3150\n",
      "Epoch 18/100\n",
      "23/23 [==============================] - 0s 7ms/step - loss: 2.7230 - mean_absolute_error: 1.2156\n",
      "Epoch 19/100\n",
      "23/23 [==============================] - 0s 10ms/step - loss: 2.5635 - mean_absolute_error: 1.1841\n",
      "Epoch 20/100\n",
      "23/23 [==============================] - 0s 7ms/step - loss: 3.3033 - mean_absolute_error: 1.3939\n",
      "Epoch 21/100\n",
      "23/23 [==============================] - 0s 7ms/step - loss: 3.2157 - mean_absolute_error: 1.3633\n",
      "Epoch 22/100\n",
      "23/23 [==============================] - 0s 7ms/step - loss: 2.4978 - mean_absolute_error: 1.1563\n",
      "Epoch 23/100\n",
      "23/23 [==============================] - 0s 6ms/step - loss: 2.5923 - mean_absolute_error: 1.1793\n",
      "Epoch 24/100\n",
      "23/23 [==============================] - 0s 4ms/step - loss: 2.5635 - mean_absolute_error: 1.1827\n",
      "Epoch 25/100\n",
      "23/23 [==============================] - 0s 5ms/step - loss: 2.4498 - mean_absolute_error: 1.1479\n",
      "Epoch 26/100\n",
      "23/23 [==============================] - 0s 5ms/step - loss: 2.4390 - mean_absolute_error: 1.1416\n",
      "Epoch 27/100\n",
      "23/23 [==============================] - 0s 5ms/step - loss: 2.6650 - mean_absolute_error: 1.2272\n",
      "Epoch 28/100\n",
      "23/23 [==============================] - 0s 5ms/step - loss: 2.6573 - mean_absolute_error: 1.2191\n",
      "Epoch 29/100\n",
      "23/23 [==============================] - 0s 5ms/step - loss: 2.8911 - mean_absolute_error: 1.2821\n",
      "Epoch 30/100\n",
      "23/23 [==============================] - 0s 5ms/step - loss: 2.4539 - mean_absolute_error: 1.1451\n",
      "Epoch 31/100\n",
      "23/23 [==============================] - 0s 6ms/step - loss: 2.3635 - mean_absolute_error: 1.1206\n",
      "Epoch 32/100\n",
      "23/23 [==============================] - 0s 6ms/step - loss: 2.2248 - mean_absolute_error: 1.0735\n",
      "Epoch 33/100\n",
      "23/23 [==============================] - 0s 6ms/step - loss: 2.4899 - mean_absolute_error: 1.1621\n",
      "Epoch 34/100\n",
      "23/23 [==============================] - 0s 5ms/step - loss: 2.7039 - mean_absolute_error: 1.2249\n",
      "Epoch 35/100\n",
      "23/23 [==============================] - 0s 6ms/step - loss: 2.5701 - mean_absolute_error: 1.1991\n",
      "Epoch 36/100\n",
      "23/23 [==============================] - 0s 6ms/step - loss: 2.7946 - mean_absolute_error: 1.2239\n",
      "Epoch 37/100\n",
      "23/23 [==============================] - 0s 4ms/step - loss: 2.4511 - mean_absolute_error: 1.1515\n",
      "Epoch 38/100\n",
      "23/23 [==============================] - 0s 4ms/step - loss: 2.4437 - mean_absolute_error: 1.1480\n",
      "Epoch 39/100\n",
      "23/23 [==============================] - 0s 4ms/step - loss: 2.2597 - mean_absolute_error: 1.0817\n",
      "Epoch 40/100\n",
      "23/23 [==============================] - 0s 5ms/step - loss: 2.3048 - mean_absolute_error: 1.1080\n",
      "Epoch 41/100\n",
      "23/23 [==============================] - 0s 5ms/step - loss: 2.1550 - mean_absolute_error: 1.0422\n",
      "Epoch 42/100\n",
      "23/23 [==============================] - 0s 4ms/step - loss: 2.3571 - mean_absolute_error: 1.1126\n",
      "Epoch 43/100\n",
      "23/23 [==============================] - 0s 4ms/step - loss: 2.3171 - mean_absolute_error: 1.1118\n",
      "Epoch 44/100\n",
      "23/23 [==============================] - 0s 7ms/step - loss: 2.0749 - mean_absolute_error: 1.0378\n",
      "Epoch 45/100\n",
      "23/23 [==============================] - 0s 6ms/step - loss: 2.6191 - mean_absolute_error: 1.1956\n",
      "Epoch 46/100\n",
      "23/23 [==============================] - 0s 6ms/step - loss: 1.9540 - mean_absolute_error: 0.9782\n",
      "Epoch 47/100\n",
      "23/23 [==============================] - 0s 5ms/step - loss: 1.9507 - mean_absolute_error: 1.0024\n",
      "Epoch 48/100\n",
      "23/23 [==============================] - 0s 4ms/step - loss: 2.1071 - mean_absolute_error: 1.0627\n",
      "Epoch 49/100\n",
      "23/23 [==============================] - 0s 5ms/step - loss: 2.6008 - mean_absolute_error: 1.1652\n",
      "Epoch 50/100\n",
      "23/23 [==============================] - 0s 4ms/step - loss: 2.1788 - mean_absolute_error: 1.0671\n",
      "Epoch 51/100\n",
      "23/23 [==============================] - 0s 4ms/step - loss: 1.9999 - mean_absolute_error: 1.0080\n",
      "Epoch 52/100\n",
      "23/23 [==============================] - 0s 4ms/step - loss: 2.2821 - mean_absolute_error: 1.0979\n",
      "Epoch 53/100\n",
      "23/23 [==============================] - 0s 5ms/step - loss: 2.3497 - mean_absolute_error: 1.1337\n",
      "Epoch 54/100\n",
      "23/23 [==============================] - 0s 4ms/step - loss: 1.8759 - mean_absolute_error: 0.9817\n",
      "Epoch 55/100\n",
      "23/23 [==============================] - 0s 5ms/step - loss: 2.5091 - mean_absolute_error: 1.1379\n",
      "Epoch 56/100\n",
      "23/23 [==============================] - 0s 4ms/step - loss: 1.9884 - mean_absolute_error: 0.9961\n",
      "Epoch 57/100\n",
      "23/23 [==============================] - 0s 4ms/step - loss: 2.1180 - mean_absolute_error: 1.0400\n",
      "Epoch 58/100\n",
      "23/23 [==============================] - 0s 5ms/step - loss: 1.8016 - mean_absolute_error: 0.9516\n",
      "Epoch 59/100\n",
      "23/23 [==============================] - 0s 5ms/step - loss: 2.4737 - mean_absolute_error: 1.1513\n",
      "Epoch 60/100\n",
      "23/23 [==============================] - 0s 4ms/step - loss: 2.3037 - mean_absolute_error: 1.0853\n",
      "Epoch 61/100\n",
      "23/23 [==============================] - 0s 4ms/step - loss: 1.7261 - mean_absolute_error: 0.9236\n",
      "Epoch 62/100\n",
      "23/23 [==============================] - 0s 6ms/step - loss: 2.0752 - mean_absolute_error: 1.0245\n",
      "Epoch 63/100\n",
      "23/23 [==============================] - 0s 4ms/step - loss: 2.1144 - mean_absolute_error: 1.0471\n",
      "Epoch 64/100\n",
      "23/23 [==============================] - 0s 5ms/step - loss: 2.1428 - mean_absolute_error: 1.0588\n",
      "Epoch 65/100\n",
      "23/23 [==============================] - 0s 5ms/step - loss: 1.6844 - mean_absolute_error: 0.8947\n",
      "Epoch 66/100\n",
      "23/23 [==============================] - 0s 5ms/step - loss: 1.9189 - mean_absolute_error: 0.9760\n",
      "Epoch 67/100\n",
      "23/23 [==============================] - 0s 11ms/step - loss: 1.6491 - mean_absolute_error: 0.8836\n",
      "Epoch 68/100\n",
      "23/23 [==============================] - 0s 5ms/step - loss: 1.7177 - mean_absolute_error: 0.9401\n",
      "Epoch 69/100\n",
      "23/23 [==============================] - 0s 5ms/step - loss: 1.7754 - mean_absolute_error: 0.9212\n",
      "Epoch 70/100\n",
      "23/23 [==============================] - 0s 5ms/step - loss: 1.6698 - mean_absolute_error: 0.8897\n",
      "Epoch 71/100\n",
      "23/23 [==============================] - 0s 5ms/step - loss: 2.1441 - mean_absolute_error: 1.0348\n",
      "Epoch 72/100\n",
      "23/23 [==============================] - 0s 6ms/step - loss: 1.6490 - mean_absolute_error: 0.8721\n",
      "Epoch 73/100\n",
      "23/23 [==============================] - 0s 6ms/step - loss: 1.7405 - mean_absolute_error: 0.9203\n",
      "Epoch 74/100\n",
      "23/23 [==============================] - 0s 5ms/step - loss: 1.7359 - mean_absolute_error: 0.9127\n",
      "Epoch 75/100\n",
      "23/23 [==============================] - 0s 6ms/step - loss: 1.9215 - mean_absolute_error: 1.0142\n",
      "Epoch 76/100\n",
      "23/23 [==============================] - 0s 5ms/step - loss: 1.6963 - mean_absolute_error: 0.8929\n",
      "Epoch 77/100\n",
      "23/23 [==============================] - 0s 7ms/step - loss: 1.4203 - mean_absolute_error: 0.7975\n",
      "Epoch 78/100\n",
      "23/23 [==============================] - 0s 6ms/step - loss: 1.8506 - mean_absolute_error: 0.9707\n",
      "Epoch 79/100\n",
      "23/23 [==============================] - 0s 6ms/step - loss: 1.6633 - mean_absolute_error: 0.8821\n",
      "Epoch 80/100\n",
      "23/23 [==============================] - 0s 6ms/step - loss: 1.4995 - mean_absolute_error: 0.8665\n",
      "Epoch 81/100\n",
      "23/23 [==============================] - 0s 6ms/step - loss: 1.8975 - mean_absolute_error: 0.9728\n",
      "Epoch 82/100\n",
      "23/23 [==============================] - 0s 5ms/step - loss: 1.2036 - mean_absolute_error: 0.7333\n",
      "Epoch 83/100\n",
      "23/23 [==============================] - 0s 4ms/step - loss: 1.9387 - mean_absolute_error: 0.9485\n",
      "Epoch 84/100\n",
      "23/23 [==============================] - 0s 5ms/step - loss: 1.4042 - mean_absolute_error: 0.8232\n",
      "Epoch 85/100\n",
      "23/23 [==============================] - 0s 5ms/step - loss: 1.6792 - mean_absolute_error: 0.8909\n",
      "Epoch 86/100\n",
      "23/23 [==============================] - 0s 9ms/step - loss: 1.3352 - mean_absolute_error: 0.7734\n",
      "Epoch 87/100\n",
      "23/23 [==============================] - 0s 6ms/step - loss: 1.2889 - mean_absolute_error: 0.7721\n",
      "Epoch 88/100\n",
      "23/23 [==============================] - 0s 5ms/step - loss: 1.4807 - mean_absolute_error: 0.8424\n",
      "Epoch 89/100\n",
      "23/23 [==============================] - 0s 5ms/step - loss: 1.2353 - mean_absolute_error: 0.7401\n",
      "Epoch 90/100\n",
      "23/23 [==============================] - 0s 6ms/step - loss: 1.3041 - mean_absolute_error: 0.7549\n",
      "Epoch 91/100\n",
      "23/23 [==============================] - 0s 6ms/step - loss: 1.8318 - mean_absolute_error: 0.9570\n",
      "Epoch 92/100\n",
      "23/23 [==============================] - 0s 5ms/step - loss: 1.3876 - mean_absolute_error: 0.8104\n",
      "Epoch 93/100\n",
      "23/23 [==============================] - 0s 6ms/step - loss: 1.2625 - mean_absolute_error: 0.7599\n",
      "Epoch 94/100\n",
      "23/23 [==============================] - 0s 4ms/step - loss: 1.3906 - mean_absolute_error: 0.8211\n",
      "Epoch 95/100\n",
      "23/23 [==============================] - 0s 5ms/step - loss: 1.1960 - mean_absolute_error: 0.7439\n",
      "Epoch 96/100\n",
      "23/23 [==============================] - 0s 6ms/step - loss: 1.6479 - mean_absolute_error: 0.8665\n",
      "Epoch 97/100\n",
      "23/23 [==============================] - 0s 5ms/step - loss: 1.3784 - mean_absolute_error: 0.8019\n",
      "Epoch 98/100\n",
      "23/23 [==============================] - 0s 5ms/step - loss: 0.9887 - mean_absolute_error: 0.6583\n",
      "Epoch 99/100\n",
      "23/23 [==============================] - 0s 6ms/step - loss: 1.3370 - mean_absolute_error: 0.7621\n",
      "Epoch 100/100\n",
      "23/23 [==============================] - 0s 5ms/step - loss: 1.1739 - mean_absolute_error: 0.7131\n"
     ]
    }
   ],
   "source": [
    "history = model.fit(X_train_scal, y_train, epochs=100)"
   ]
  },
  {
   "cell_type": "code",
   "execution_count": 15,
   "metadata": {},
   "outputs": [
    {
     "name": "stdout",
     "output_type": "stream",
     "text": [
      "Model: \"sequential\"\n",
      "_________________________________________________________________\n",
      " Layer (type)                Output Shape              Param #   \n",
      "=================================================================\n",
      " dense (Dense)               (None, 500)               2500      \n",
      "                                                                 \n",
      " dense_1 (Dense)             (None, 300)               150300    \n",
      "                                                                 \n",
      " dense_2 (Dense)             (None, 100)               30100     \n",
      "                                                                 \n",
      " dense_3 (Dense)             (None, 50)                5050      \n",
      "                                                                 \n",
      " dense_4 (Dense)             (None, 1)                 51        \n",
      "                                                                 \n",
      "=================================================================\n",
      "Total params: 188,001\n",
      "Trainable params: 188,001\n",
      "Non-trainable params: 0\n",
      "_________________________________________________________________\n"
     ]
    }
   ],
   "source": [
    "model.summary()"
   ]
  },
  {
   "cell_type": "code",
   "execution_count": 25,
   "metadata": {},
   "outputs": [
    {
     "name": "stdout",
     "output_type": "stream",
     "text": [
      "6/6 [==============================] - 0s 2ms/step - loss: 0.8932 - mean_absolute_error: 0.6507\n",
      "[0.8932048082351685, 0.6507079005241394]\n"
     ]
    }
   ],
   "source": [
    "error_test = model.evaluate(X_test_scal, y_test)\n",
    "print(error_test)"
   ]
  },
  {
   "cell_type": "code",
   "execution_count": 29,
   "metadata": {},
   "outputs": [
    {
     "name": "stdout",
     "output_type": "stream",
     "text": [
      "6/6 [==============================] - 0s 3ms/step\n"
     ]
    }
   ],
   "source": [
    "y_pred = model.predict(X_test_scal)"
   ]
  },
  {
   "cell_type": "code",
   "execution_count": 30,
   "metadata": {},
   "outputs": [
    {
     "data": {
      "text/html": [
       "<div>\n",
       "<style scoped>\n",
       "    .dataframe tbody tr th:only-of-type {\n",
       "        vertical-align: middle;\n",
       "    }\n",
       "\n",
       "    .dataframe tbody tr th {\n",
       "        vertical-align: top;\n",
       "    }\n",
       "\n",
       "    .dataframe thead th {\n",
       "        text-align: right;\n",
       "    }\n",
       "</style>\n",
       "<table border=\"1\" class=\"dataframe\">\n",
       "  <thead>\n",
       "    <tr style=\"text-align: right;\">\n",
       "      <th></th>\n",
       "      <th>Metric</th>\n",
       "      <th>Error</th>\n",
       "    </tr>\n",
       "  </thead>\n",
       "  <tbody>\n",
       "    <tr>\n",
       "      <th>0</th>\n",
       "      <td>MAE</td>\n",
       "      <td>0.650708</td>\n",
       "    </tr>\n",
       "    <tr>\n",
       "      <th>1</th>\n",
       "      <td>MAPE</td>\n",
       "      <td>0.044592</td>\n",
       "    </tr>\n",
       "    <tr>\n",
       "      <th>2</th>\n",
       "      <td>MSE</td>\n",
       "      <td>0.893205</td>\n",
       "    </tr>\n",
       "    <tr>\n",
       "      <th>3</th>\n",
       "      <td>RMSE</td>\n",
       "      <td>0.945095</td>\n",
       "    </tr>\n",
       "  </tbody>\n",
       "</table>\n",
       "</div>"
      ],
      "text/plain": [
       "  Metric     Error\n",
       "0    MAE  0.650708\n",
       "1   MAPE  0.044592\n",
       "2    MSE  0.893205\n",
       "3   RMSE  0.945095"
      ]
     },
     "execution_count": 30,
     "metadata": {},
     "output_type": "execute_result"
    }
   ],
   "source": [
    "functions.df_error(y_pred,y_test,'error_neuralnetwork.csv')"
   ]
  },
  {
   "cell_type": "code",
   "execution_count": 52,
   "metadata": {},
   "outputs": [],
   "source": [
    "model.save(\"model/model_neuralnetworks.h5\")"
   ]
  },
  {
   "cell_type": "code",
   "execution_count": 84,
   "metadata": {},
   "outputs": [
    {
     "data": {
      "text/html": [
       "<div>\n",
       "<style scoped>\n",
       "    .dataframe tbody tr th:only-of-type {\n",
       "        vertical-align: middle;\n",
       "    }\n",
       "\n",
       "    .dataframe tbody tr th {\n",
       "        vertical-align: top;\n",
       "    }\n",
       "\n",
       "    .dataframe thead th {\n",
       "        text-align: right;\n",
       "    }\n",
       "</style>\n",
       "<table border=\"1\" class=\"dataframe\">\n",
       "  <thead>\n",
       "    <tr style=\"text-align: right;\">\n",
       "      <th></th>\n",
       "      <th>loss</th>\n",
       "      <th>mean_absolute_error</th>\n",
       "    </tr>\n",
       "  </thead>\n",
       "  <tbody>\n",
       "    <tr>\n",
       "      <th>0</th>\n",
       "      <td>1.690753</td>\n",
       "      <td>0.887282</td>\n",
       "    </tr>\n",
       "    <tr>\n",
       "      <th>1</th>\n",
       "      <td>1.490123</td>\n",
       "      <td>0.843903</td>\n",
       "    </tr>\n",
       "    <tr>\n",
       "      <th>2</th>\n",
       "      <td>1.730407</td>\n",
       "      <td>0.918791</td>\n",
       "    </tr>\n",
       "    <tr>\n",
       "      <th>3</th>\n",
       "      <td>1.347363</td>\n",
       "      <td>0.764700</td>\n",
       "    </tr>\n",
       "    <tr>\n",
       "      <th>4</th>\n",
       "      <td>1.534407</td>\n",
       "      <td>0.850226</td>\n",
       "    </tr>\n",
       "    <tr>\n",
       "      <th>...</th>\n",
       "      <td>...</td>\n",
       "      <td>...</td>\n",
       "    </tr>\n",
       "    <tr>\n",
       "      <th>95</th>\n",
       "      <td>0.375184</td>\n",
       "      <td>0.396964</td>\n",
       "    </tr>\n",
       "    <tr>\n",
       "      <th>96</th>\n",
       "      <td>0.535415</td>\n",
       "      <td>0.465710</td>\n",
       "    </tr>\n",
       "    <tr>\n",
       "      <th>97</th>\n",
       "      <td>0.393759</td>\n",
       "      <td>0.424549</td>\n",
       "    </tr>\n",
       "    <tr>\n",
       "      <th>98</th>\n",
       "      <td>0.387205</td>\n",
       "      <td>0.400793</td>\n",
       "    </tr>\n",
       "    <tr>\n",
       "      <th>99</th>\n",
       "      <td>0.542772</td>\n",
       "      <td>0.477184</td>\n",
       "    </tr>\n",
       "  </tbody>\n",
       "</table>\n",
       "<p>100 rows × 2 columns</p>\n",
       "</div>"
      ],
      "text/plain": [
       "        loss  mean_absolute_error\n",
       "0   1.690753             0.887282\n",
       "1   1.490123             0.843903\n",
       "2   1.730407             0.918791\n",
       "3   1.347363             0.764700\n",
       "4   1.534407             0.850226\n",
       "..       ...                  ...\n",
       "95  0.375184             0.396964\n",
       "96  0.535415             0.465710\n",
       "97  0.393759             0.424549\n",
       "98  0.387205             0.400793\n",
       "99  0.542772             0.477184\n",
       "\n",
       "[100 rows x 2 columns]"
      ]
     },
     "execution_count": 84,
     "metadata": {},
     "output_type": "execute_result"
    }
   ],
   "source": [
    "pd.DataFrame(history.history)"
   ]
  }
 ],
 "metadata": {
  "kernelspec": {
   "display_name": "Python 3",
   "language": "python",
   "name": "python3"
  },
  "language_info": {
   "codemirror_mode": {
    "name": "ipython",
    "version": 3
   },
   "file_extension": ".py",
   "mimetype": "text/x-python",
   "name": "python",
   "nbconvert_exporter": "python",
   "pygments_lexer": "ipython3",
   "version": "3.7.4"
  },
  "orig_nbformat": 4,
  "vscode": {
   "interpreter": {
    "hash": "5c7855af51e3b65dc9bbd99e144f6a35175e6720a6ba36a4f5092674d9dd90ab"
   }
  }
 },
 "nbformat": 4,
 "nbformat_minor": 2
}
